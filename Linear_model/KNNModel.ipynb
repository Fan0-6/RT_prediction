{
 "cells": [
  {
   "cell_type": "code",
   "execution_count": 1,
   "metadata": {},
   "outputs": [],
   "source": [
    "import numpy as np\n",
    "import matplotlib.pyplot as plt\n",
    "from sklearn.datasets import make_regression\n",
    "from sklearn.model_selection import train_test_split\n",
    "from sklearn.neighbors import KNeighborsRegressor\n",
    "from sklearn.metrics import mean_squared_error, r2_score\n",
    "from sklearn.linear_model import LinearRegression"
   ]
  },
  {
   "cell_type": "code",
   "execution_count": 2,
   "metadata": {},
   "outputs": [
    {
     "name": "stderr",
     "output_type": "stream",
     "text": [
      "/Users/arthurwu/anaconda3/lib/python3.7/site-packages/pandas/compat/_optional.py:138: UserWarning: Pandas requires version '2.7.0' or newer of 'numexpr' (version '2.6.9' currently installed).\n",
      "  warnings.warn(msg, UserWarning)\n"
     ]
    }
   ],
   "source": [
    "import pandas as pd"
   ]
  },
  {
   "cell_type": "code",
   "execution_count": 3,
   "metadata": {},
   "outputs": [],
   "source": [
    "dataframe = pd.read_csv('descriptors.csv')"
   ]
  },
  {
   "cell_type": "code",
   "execution_count": 4,
   "metadata": {},
   "outputs": [
    {
     "name": "stdout",
     "output_type": "stream",
     "text": [
      "                                          NAME        InChIKey  \\\n",
      "0                                 caproic acid  FUZZWVXGSFPDMH   \n",
      "1  1_CUDA internal std_in source fragmentation  HPTJABJPZMULFH   \n",
      "2                                     cotinine  UIKROCXWUNQSPJ   \n",
      "3                             isopropanolamine  HXKKHQJGJAFBHI   \n",
      "4                                   piperidine  NQRYJNQNLNOLGT   \n",
      "\n",
      "                               SMILES         RT        ABC      ABCGG  nAcid  \\\n",
      "0                         CCCCCC(=O)O  58.200000   5.168527   5.361851      1   \n",
      "1  C1CCC(CC1)NC(=O)NCCCCCCCCCCCC(=O)O  14.767761  17.298732  13.028966      1   \n",
      "2             CN1C(CCC1=O)C2=CN=CC=C2  18.687089   9.996954   9.253985      0   \n",
      "3                             CC(CN)O  88.756780   3.047207   3.305183      0   \n",
      "4                            C1CCNCC1  66.833588   4.242641   4.000000      0   \n",
      "\n",
      "   nBase  nAromAtom  nAromBond  ...     SRW09     SRW10     TSRW10  \\\n",
      "0      0          0          0  ...  0.000000  7.475906  33.090360   \n",
      "1      0          0          0  ...  0.000000  9.176680  56.244409   \n",
      "2      0          6          6  ...  6.783325  9.339525  58.137510   \n",
      "3      1          0          0  ...  0.000000  6.834109  27.254130   \n",
      "4      1          0          0  ...  0.000000  7.627057  30.941317   \n",
      "\n",
      "           MW       AMW  WPath  WPol  Zagreb1  Zagreb2  mZagreb2  \n",
      "0  116.083730  5.804186     79     5     28.0     26.0  2.083333  \n",
      "1  340.272593  5.671210   2058    24    102.0    105.0  5.750000  \n",
      "2  176.094963  7.043799    238    17     66.0     77.0  2.916667  \n",
      "3   75.068414  5.362030     18     2     16.0     14.0  1.333333  \n",
      "4   85.089149  5.005244     27     3     24.0     24.0  1.500000  \n",
      "\n",
      "[5 rows x 975 columns]\n"
     ]
    }
   ],
   "source": [
    "print(dataframe.head())"
   ]
  },
  {
   "cell_type": "code",
   "execution_count": 5,
   "metadata": {},
   "outputs": [],
   "source": [
    "Y = dataframe['RT']"
   ]
  },
  {
   "cell_type": "code",
   "execution_count": 6,
   "metadata": {},
   "outputs": [],
   "source": [
    "keys = dataframe.columns.tolist()\n",
    "X = dataframe[keys[4:975]]"
   ]
  },
  {
   "cell_type": "code",
   "execution_count": 8,
   "metadata": {},
   "outputs": [
    {
     "name": "stdout",
     "output_type": "stream",
     "text": [
      "         ABC      ABCGG  nAcid  nBase  nAromAtom  nAromBond  nAtom  \\\n",
      "0   5.168527   5.361851      1      0          0          0     20   \n",
      "1  17.298732  13.028966      1      0          0          0     60   \n",
      "2   9.996954   9.253985      0      0          6          6     25   \n",
      "3   3.047207   3.305183      0      1          0          0     14   \n",
      "4   4.242641   4.000000      0      1          0          0     17   \n",
      "\n",
      "   nHeavyAtom  nSpiro  nBridgehead  ...     SRW09     SRW10     TSRW10  \\\n",
      "0           8       0            0  ...  0.000000  7.475906  33.090360   \n",
      "1          24       0            0  ...  0.000000  9.176680  56.244409   \n",
      "2          13       0            0  ...  6.783325  9.339525  58.137510   \n",
      "3           5       0            0  ...  0.000000  6.834109  27.254130   \n",
      "4           6       0            0  ...  0.000000  7.627057  30.941317   \n",
      "\n",
      "           MW       AMW  WPath  WPol  Zagreb1  Zagreb2  mZagreb2  \n",
      "0  116.083730  5.804186     79     5     28.0     26.0  2.083333  \n",
      "1  340.272593  5.671210   2058    24    102.0    105.0  5.750000  \n",
      "2  176.094963  7.043799    238    17     66.0     77.0  2.916667  \n",
      "3   75.068414  5.362030     18     2     16.0     14.0  1.333333  \n",
      "4   85.089149  5.005244     27     3     24.0     24.0  1.500000  \n",
      "\n",
      "[5 rows x 971 columns]\n"
     ]
    }
   ],
   "source": [
    "print(X.head())"
   ]
  },
  {
   "cell_type": "code",
   "execution_count": 9,
   "metadata": {},
   "outputs": [],
   "source": [
    "from sklearn.model_selection import train_test_split\n",
    "X_train, X_test, y_train, y_test = train_test_split(X, Y, test_size=0.2, random_state=42)"
   ]
  },
  {
   "cell_type": "code",
   "execution_count": 46,
   "metadata": {},
   "outputs": [
    {
     "data": {
      "text/plain": [
       "KNeighborsRegressor(algorithm='auto', leaf_size=30, metric='minkowski',\n",
       "                    metric_params=None, n_jobs=None, n_neighbors=10, p=2,\n",
       "                    weights='uniform')"
      ]
     },
     "execution_count": 46,
     "metadata": {},
     "output_type": "execute_result"
    }
   ],
   "source": [
    "from sklearn.metrics import mean_squared_error\n",
    "knn_regressor = KNeighborsRegressor(n_neighbors=10)\n",
    "knn_regressor.fit(X_train, y_train)"
   ]
  },
  {
   "cell_type": "code",
   "execution_count": 47,
   "metadata": {},
   "outputs": [],
   "source": [
    "y_pred = knn_regressor.predict(X_test)"
   ]
  },
  {
   "cell_type": "code",
   "execution_count": 48,
   "metadata": {},
   "outputs": [],
   "source": [
    "mse = mean_squared_error(y_test, y_pred)\n",
    "r2 = r2_score(y_test, y_pred)"
   ]
  },
  {
   "cell_type": "code",
   "execution_count": 49,
   "metadata": {},
   "outputs": [
    {
     "name": "stdout",
     "output_type": "stream",
     "text": [
      "Mean Squared Error: 1245.4118985914058\n",
      "R-squared: 0.4317779289680249\n"
     ]
    }
   ],
   "source": [
    "print(f'Mean Squared Error: {mse}')\n",
    "print(f'R-squared: {r2}')"
   ]
  },
  {
   "cell_type": "code",
   "execution_count": null,
   "metadata": {},
   "outputs": [],
   "source": []
  }
 ],
 "metadata": {
  "kernelspec": {
   "display_name": "Python 3",
   "language": "python",
   "name": "python3"
  },
  "language_info": {
   "codemirror_mode": {
    "name": "ipython",
    "version": 3
   },
   "file_extension": ".py",
   "mimetype": "text/x-python",
   "name": "python",
   "nbconvert_exporter": "python",
   "pygments_lexer": "ipython3",
   "version": "3.7.3"
  }
 },
 "nbformat": 4,
 "nbformat_minor": 2
}
